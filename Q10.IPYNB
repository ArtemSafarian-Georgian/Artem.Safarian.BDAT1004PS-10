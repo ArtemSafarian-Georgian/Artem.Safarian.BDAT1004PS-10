{
 "cells": [
  {
   "cell_type": "code",
   "execution_count": 1,
   "id": "3631d9b2",
   "metadata": {},
   "outputs": [
    {
     "data": {
      "text/plain": [
       "[1, 0, 0, 0, 1, 0, 0, 0, 0, 0, 0, 1, 0, 0, 0, 2, 0, 0, 0, 0, 0, 0, 0, 0, 0, 0]"
      ]
     },
     "execution_count": 1,
     "metadata": {},
     "output_type": "execute_result"
    }
   ],
   "source": [
    "from collections import Counter \n",
    "\n",
    "def frequencies(pass_string):\n",
    "  letters = [\"a\",\"b\",\"c\",\"d\",\"e\",\"f\",\"g\",\"h\",\"i\",\"j\",\"k\",\"l\",\"m\",\"n\",\"o\",\"p\",\"q\",\"r\",\"s\",\"t\",\"u\",\"v\",\"w\",\"x\",\"y\",\"z\"]\n",
    "  chars_in_string = Counter(pass_string)\n",
    "  res = {}\n",
    "  for letter in letters:\n",
    "    if(letter in chars_in_string):\n",
    "      res[letter] = chars_in_string[letter]\n",
    "    else: \n",
    "      res[letter] = 0 \n",
    "  return(res)\n",
    "\n",
    "list(frequencies(\"apple\").values())"
   ]
  },
  {
   "cell_type": "code",
   "execution_count": null,
   "id": "ba88b52e",
   "metadata": {},
   "outputs": [],
   "source": []
  }
 ],
 "metadata": {
  "kernelspec": {
   "display_name": "Python 3 (ipykernel)",
   "language": "python",
   "name": "python3"
  },
  "language_info": {
   "codemirror_mode": {
    "name": "ipython",
    "version": 3
   },
   "file_extension": ".py",
   "mimetype": "text/x-python",
   "name": "python",
   "nbconvert_exporter": "python",
   "pygments_lexer": "ipython3",
   "version": "3.9.7"
  }
 },
 "nbformat": 4,
 "nbformat_minor": 5
}
